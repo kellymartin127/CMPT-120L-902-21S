{
 "metadata": {
  "language_info": {
   "codemirror_mode": {
    "name": "ipython",
    "version": 3
   },
   "file_extension": ".py",
   "mimetype": "text/x-python",
   "name": "python",
   "nbconvert_exporter": "python",
   "pygments_lexer": "ipython3",
   "version": "3.8.5-final"
  },
  "orig_nbformat": 2,
  "kernelspec": {
   "name": "python3",
   "display_name": "Python 3.8.5 64-bit ('anaconda3': virtualenv)",
   "metadata": {
    "interpreter": {
     "hash": "dca0ade3e726a953b501b15e8e990130d2b7799f14cfd9f4271676035ebe5511"
    }
   }
  }
 },
 "nbformat": 4,
 "nbformat_minor": 2,
 "cells": [
  {
   "source": [
    "# Lab Four\n",
    "---\n",
    "\n",
    "For this lab we're going to be messing around with Markdown!\n",
    "\n",
    "Our Goals are:\n",
    "- Using Markdown!\n",
    "\n",
    "I want you to describe to me your process of converting the assignment and making it DRY. \n",
    "\n",
    "Please show the ability to:\n",
    "- Make a header\n",
    "- Make a list (ordered or unordered)\n",
    "- Link the Markdown Guide from the lesson. \n",
    "- Artuculate your thought process."
   ],
   "cell_type": "markdown",
   "metadata": {}
  },
  {
   "source": [
    "# This is my header."
   ],
   "cell_type": "markdown",
   "metadata": {}
  },
  {
   "source": [
    "+ This \n",
    "+ is \n",
    "+ my \n",
    "+ list\n"
   ],
   "cell_type": "markdown",
   "metadata": {}
  },
  {
   "source": [
    "[Markdown guide link](https://www.markdownguide.org) "
   ],
   "cell_type": "markdown",
   "metadata": {}
  },
  {
   "source": [
    "My thought process: I used first level heading to create my header following the example given by the markdown guide. I then created my list, I used a plus sign to do this again following the markdown guide, more specifically the simple list example. Lastly, I copied the markdown guide link from the lesson and pasted it."
   ],
   "cell_type": "markdown",
   "metadata": {}
  }
 ]
}